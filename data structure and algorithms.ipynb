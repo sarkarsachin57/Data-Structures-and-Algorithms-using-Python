{
 "cells": [
  {
   "cell_type": "markdown",
   "metadata": {},
   "source": [
    "# Data Structure and Algorithms"
   ]
  },
  {
   "cell_type": "markdown",
   "metadata": {},
   "source": [
    "### Sequential search "
   ]
  },
  {
   "cell_type": "code",
   "execution_count": 7,
   "metadata": {},
   "outputs": [
    {
     "name": "stdout",
     "output_type": "stream",
     "text": [
      "Enter number of elements : 5\n",
      "Enter array[0] : 6\n",
      "Enter array[1] : 4\n",
      "Enter array[2] : 3\n",
      "Enter array[3] : 7\n",
      "Enter array[4] : 1\n",
      "array :  [6, 4, 3, 7, 1]\n",
      "Enter key, that youwant to search : 7\n",
      "Index number of  7  is :  3\n"
     ]
    }
   ],
   "source": [
    "def sequential_search(arr,key):\n",
    "    for i in arr:\n",
    "        if(i==key):\n",
    "            return arr.index(i)\n",
    "    return 'NotFound'\n",
    "\n",
    "array = []\n",
    "n = int(input('Enter number of elements : '))\n",
    "for m in range(n):\n",
    "    val = int(input('Enter array[%d] : ' %m))\n",
    "    array.append(val)\n",
    "print('array : ',array)\n",
    "key = int(input('Enter key, that youwant to search : '))\n",
    "result = sequential_search(array,key)\n",
    "if result=='NotFound':\n",
    "    print('The value ',key,' not present in this list.')\n",
    "else:\n",
    "    print('Index number of ',key,' is : ',result)"
   ]
  },
  {
   "cell_type": "markdown",
   "metadata": {},
   "source": [
    "### Binary Search"
   ]
  },
  {
   "cell_type": "code",
   "execution_count": 8,
   "metadata": {},
   "outputs": [
    {
     "name": "stdout",
     "output_type": "stream",
     "text": [
      "Enter number of elements : 5\n",
      "Enter array[0] : 1\n",
      "Enter array[1] : 4\n",
      "Enter array[2] : 6\n",
      "Enter array[3] : 7\n",
      "Enter array[4] : 9\n",
      "array :  [1, 4, 6, 7, 9]\n",
      "Enter key, that youwant to search : 4\n",
      "Index number of  4  is :  1\n"
     ]
    }
   ],
   "source": [
    "def binary_search(arr,key):\n",
    "    l = 0\n",
    "    r = len(arr)-1\n",
    "    while l<=r:\n",
    "        m = (l+r)//2\n",
    "        if arr[m]==key:\n",
    "            return m\n",
    "        elif arr[m]>key:\n",
    "            r = m - 1\n",
    "        elif arr[m]<key:\n",
    "            l = m + 1\n",
    "    return 'NotFound'\n",
    "\n",
    "array = []\n",
    "n = int(input('Enter number of elements : '))\n",
    "for m in range(n):\n",
    "    val = int(input('Enter array[%d] : ' %m))\n",
    "    array.append(val)\n",
    "print('array : ',array)\n",
    "key = int(input('Enter key, that youwant to search : '))\n",
    "result = binary_search(array,key)\n",
    "if result=='NotFound':\n",
    "    print('The value ',key,' not present in this list.')\n",
    "else:\n",
    "    print('Index number of ',key,' is : ',result)"
   ]
  },
  {
   "cell_type": "markdown",
   "metadata": {},
   "source": [
    "### Selection Sort"
   ]
  },
  {
   "cell_type": "code",
   "execution_count": 10,
   "metadata": {},
   "outputs": [
    {
     "name": "stdout",
     "output_type": "stream",
     "text": [
      "Enter number of elements : 5\n",
      "Enter array[0] : 8\n",
      "Enter array[1] : 3\n",
      "Enter array[2] : 6\n",
      "Enter array[3] : 1\n",
      "Enter array[4] : 5\n",
      "array :  [8, 3, 6, 1, 5]\n",
      "Sorted array :  [1, 3, 5, 6, 8]\n"
     ]
    }
   ],
   "source": [
    "def selection_sort(arr):\n",
    "    for i in range(len(arr)):\n",
    "        position = i\n",
    "        for j in range(i+1,len(arr)):\n",
    "            if arr[position]>arr[j]:\n",
    "                position = j\n",
    "        arr[i],arr[position]=arr[position],arr[i]\n",
    "        \n",
    "        \n",
    "array = []\n",
    "n = int(input('Enter number of elements : '))\n",
    "for m in range(n):\n",
    "    val = int(input('Enter array[%d] : ' %m))\n",
    "    array.append(val)\n",
    "print('array : ',array)\n",
    "selection_sort(array)\n",
    "print('Sorted array : ',array)"
   ]
  },
  {
   "cell_type": "markdown",
   "metadata": {},
   "source": [
    "### Insertion Sort"
   ]
  },
  {
   "cell_type": "code",
   "execution_count": 11,
   "metadata": {},
   "outputs": [
    {
     "name": "stdout",
     "output_type": "stream",
     "text": [
      "Enter number of elements : 5\n",
      "Enter array[0] : 3\n",
      "Enter array[1] : 2\n",
      "Enter array[2] : 7\n",
      "Enter array[3] : 6\n",
      "Enter array[4] : 5\n",
      "array :  [3, 2, 7, 6, 5]\n",
      "Sorted array :  [2, 3, 5, 6, 7]\n"
     ]
    }
   ],
   "source": [
    "def insertion_sort(arr):\n",
    "    for i in range(1,len(arr)):\n",
    "        temp = arr[i]\n",
    "        j = i-1\n",
    "        while j>=0 and arr[j]>temp:\n",
    "            arr[j+1] = arr[j]\n",
    "            j-=1\n",
    "        arr[j+1]=temp\n",
    "            \n",
    "        \n",
    "\n",
    "array = []\n",
    "n = int(input('Enter number of elements : '))\n",
    "for m in range(n):\n",
    "    val = int(input('Enter array[%d] : ' %m))\n",
    "    array.append(val)\n",
    "print('array : ',array)\n",
    "insertion_sort(array)\n",
    "print('Sorted array : ',array)"
   ]
  },
  {
   "cell_type": "markdown",
   "metadata": {},
   "source": [
    "### Quick Sort"
   ]
  },
  {
   "cell_type": "code",
   "execution_count": 1,
   "metadata": {},
   "outputs": [
    {
     "name": "stdout",
     "output_type": "stream",
     "text": [
      "Enter number of elements : 6\n",
      "Enter array[0] : 9\n",
      "Enter array[1] : 1\n",
      "Enter array[2] : 8\n",
      "Enter array[3] : 2\n",
      "Enter array[4] : 7\n",
      "Enter array[5] : 3\n",
      "array :  [9, 1, 8, 2, 7, 3]\n",
      "Sorted array :  [1, 2, 3, 7, 8, 9]\n"
     ]
    }
   ],
   "source": [
    "def partition(arr,l,r):\n",
    "    pivot = arr[l]\n",
    "    i,j = l+1,r\n",
    "    while i<=j:\n",
    "        if arr[i]<=pivot and arr[j]>pivot:\n",
    "            i,j=i+1,j-1\n",
    "        elif arr[i]<=pivot:\n",
    "            i+=1\n",
    "        elif arr[j]>pivot:\n",
    "            j-=1\n",
    "        else:\n",
    "            arr[i],arr[j]=arr[j],arr[i]\n",
    "            i,j=i+1,j-1\n",
    "    arr[l],arr[j]=arr[j],arr[l]\n",
    "    return j\n",
    "\n",
    "def quicksort(arr,l,r):\n",
    "    if l<r:\n",
    "        pi = partition(arr,l,r)\n",
    "        quicksort(arr,l,pi-1)\n",
    "        quicksort(arr,pi+1,r)\n",
    "        \n",
    "def quick_sort(arr):\n",
    "    l,r = 0,len(arr)-1\n",
    "    quicksort(arr,l,r)\n",
    "    \n",
    "    \n",
    "array = []\n",
    "n = int(input('Enter number of elements : '))\n",
    "for m in range(n):\n",
    "    val = int(input('Enter array[%d] : ' %m))\n",
    "    array.append(val)\n",
    "print('array : ',array)\n",
    "quick_sort(array)\n",
    "print('Sorted array : ',array)"
   ]
  },
  {
   "cell_type": "markdown",
   "metadata": {},
   "source": [
    "### Merge Sort"
   ]
  },
  {
   "cell_type": "code",
   "execution_count": 1,
   "metadata": {},
   "outputs": [
    {
     "name": "stdout",
     "output_type": "stream",
     "text": [
      "Enter number of elements : 8\n",
      "Enter array[0] : 2\n",
      "Enter array[1] : 7\n",
      "Enter array[2] : 1\n",
      "Enter array[3] : 0\n",
      "Enter array[4] : 5\n",
      "Enter array[5] : 7\n",
      "Enter array[6] : 9\n",
      "Enter array[7] : 3\n",
      "array :  [2, 7, 1, 0, 5, 7, 9, 3]\n",
      "Sorted array :  [0, 1, 2, 3, 5, 7, 7, 9]\n"
     ]
    }
   ],
   "source": [
    "def merge(arr,l,m,r):\n",
    "    L = arr[l:m+1]\n",
    "    R = arr[m+1:r+1]\n",
    "    i,j,k=0,0,l\n",
    "    while i<len(L) and j<len(R):\n",
    "        if L[i]<R[j]:\n",
    "            arr[k]=L[i]\n",
    "            i+=1\n",
    "        else:\n",
    "            arr[k]=R[j]\n",
    "            j+=1\n",
    "        k+=1\n",
    "        \n",
    "    while i<len(L):\n",
    "        arr[k]=L[i]\n",
    "        i,k=i+1,k+1\n",
    "        \n",
    "    while j<len(R):\n",
    "        arr[k]=R[j]\n",
    "        j,k=j+1,k+1\n",
    "        \n",
    "def mergesort(arr,l,r):\n",
    "    if l<r:\n",
    "        m = (l+r)//2\n",
    "        mergesort(arr,l,m)\n",
    "        mergesort(arr,m+1,r)\n",
    "        merge(arr,l,m,r)\n",
    "\n",
    "def merge_sort(arr):\n",
    "    l,r = 0,len(arr)-1\n",
    "    mergesort(arr,l,r)\n",
    "    \n",
    "    \n",
    "array = []\n",
    "n = int(input('Enter number of elements : '))\n",
    "for m in range(n):\n",
    "    val = int(input('Enter array[%d] : ' %m))\n",
    "    array.append(val)\n",
    "print('array : ',array)\n",
    "merge_sort(array)\n",
    "print('Sorted array : ',array)"
   ]
  },
  {
   "cell_type": "markdown",
   "metadata": {},
   "source": [
    "### Stack"
   ]
  },
  {
   "cell_type": "code",
   "execution_count": 133,
   "metadata": {
    "scrolled": true
   },
   "outputs": [
    {
     "name": "stdout",
     "output_type": "stream",
     "text": [
      "Stack after push :  [9]\n",
      "Stack after push :  [9, 5]\n",
      "Stack after push :  [9, 5, 7]\n",
      "Length now is :  3\n",
      "Top now is :  7\n",
      "Stack after pop :  [9, 5]\n",
      "Stack after pop :  [9]\n",
      "Stack after pop :  []\n",
      "The stack is empty. No element to pop\n",
      "Stack after pop :  None\n",
      "Stack after push :  [4]\n",
      "Stack after push :  [4, 8]\n",
      "Top now is :  8\n",
      "Length now is :  2\n"
     ]
    }
   ],
   "source": [
    "class Stack:\n",
    "    def __init__(self):\n",
    "        self.stack = []\n",
    "        \n",
    "    def push(self,data):\n",
    "        self.stack.append(data)\n",
    "        return self.stack\n",
    "        \n",
    "    def pop(self):\n",
    "        if(len(self.stack)==0):\n",
    "            print(\"The stack is empty. No element to pop\")\n",
    "        else:\n",
    "            self.stack.pop()\n",
    "            return self.stack\n",
    "    \n",
    "    def top(self):\n",
    "        if(len(self.stack)==0):\n",
    "            print(\"The stack is empty. No top element to show\")\n",
    "        else:\n",
    "            return self.stack[-1]\n",
    "        \n",
    "stk = Stack()\n",
    "print(\"Stack after push : \",stk.push(9))\n",
    "print(\"Stack after push : \",stk.push(5))\n",
    "print(\"Stack after push : \",stk.push(7))\n",
    "print(\"Length now is : \",len(stk.stack))\n",
    "print(\"Top now is : \",stk.top())\n",
    "print(\"Stack after pop : \",stk.pop())\n",
    "print(\"Stack after pop : \",stk.pop())\n",
    "print(\"Stack after pop : \",stk.pop())\n",
    "print(\"Stack after pop : \",stk.pop())\n",
    "print(\"Stack after push : \",stk.push(4))\n",
    "print(\"Stack after push : \",stk.push(8))\n",
    "print(\"Top now is : \",stk.top())\n",
    "print(\"Length now is : \",len(stk.stack))"
   ]
  },
  {
   "cell_type": "markdown",
   "metadata": {},
   "source": [
    "### Queue"
   ]
  },
  {
   "cell_type": "code",
   "execution_count": 136,
   "metadata": {},
   "outputs": [
    {
     "name": "stdout",
     "output_type": "stream",
     "text": [
      "Queue after enqueue :  [9]\n",
      "Queue after enqueue :  [9, 5]\n",
      "Queue after enqueue :  [9, 5, 7]\n",
      "Length now is :  3\n",
      "First now is :  9\n",
      "Queue after dequeue :  [5, 7]\n",
      "Queue after dequeue :  [7]\n",
      "Queue after dequeue :  []\n",
      "The queue is empty. No element to pop\n",
      "Queue after dequeue :  None\n",
      "Queue after enqueue :  [4]\n",
      "Queue after enqueue :  [4, 8]\n",
      "First now is :  4\n",
      "Length now is :  2\n"
     ]
    }
   ],
   "source": [
    "class Queue:\n",
    "    def __init__(self):\n",
    "        self.queue = []\n",
    "        \n",
    "    def enque(self,data):\n",
    "        self.queue.append(data)\n",
    "        return self.queue\n",
    "        \n",
    "    def deque(self):\n",
    "        if(len(self.queue)==0):\n",
    "            print(\"The queue is empty. No element to pop\")\n",
    "        else:\n",
    "            self.queue.pop(0)\n",
    "            return self.queue\n",
    "    \n",
    "    def first(self):\n",
    "        if(len(self.queue)==0):\n",
    "            print(\"The queue is empty. No top element to show\")\n",
    "        else:\n",
    "            return self.queue[0]\n",
    "        \n",
    "que = Queue()\n",
    "print(\"Queue after enqueue : \",que.enque(9))\n",
    "print(\"Queue after enqueue : \",que.enque(5))\n",
    "print(\"Queue after enqueue : \",que.enque(7))\n",
    "print(\"Length now is : \",len(que.queue))\n",
    "print(\"First now is : \",que.first())\n",
    "print(\"Queue after dequeue : \",que.deque())\n",
    "print(\"Queue after dequeue : \",que.deque())\n",
    "print(\"Queue after dequeue : \",que.deque())\n",
    "print(\"Queue after dequeue : \",que.deque())\n",
    "print(\"Queue after enqueue : \",que.enque(4))\n",
    "print(\"Queue after enqueue : \",que.enque(8))\n",
    "print(\"First now is : \",que.first())\n",
    "print(\"Length now is : \",len(que.queue))"
   ]
  },
  {
   "cell_type": "markdown",
   "metadata": {},
   "source": [
    "### Linked List"
   ]
  },
  {
   "cell_type": "code",
   "execution_count": 3,
   "metadata": {},
   "outputs": [
    {
     "name": "stdout",
     "output_type": "stream",
     "text": [
      "Linked List : 57 --> 75 --> 88 --> 24 --> 78 --> 56 --> 35 --> 95\n",
      "Linked List : 57 --> 75 --> 88 --> 24 --> 45 --> 78 --> 56 --> 35 --> 95\n"
     ]
    }
   ],
   "source": [
    "class Node:\n",
    "    def __init__(self,data):\n",
    "        self.data = data\n",
    "        self.next = None\n",
    "        self.index = None\n",
    "        \n",
    "class LinkedList:\n",
    "    def __init__(self):\n",
    "        self.head = None\n",
    "        \n",
    "    def indexing(self):\n",
    "        temp = self.head\n",
    "        index = 0\n",
    "        while temp != None:\n",
    "            temp.index = index\n",
    "            index += 1\n",
    "            temp = temp.next\n",
    "        \n",
    "    def insert_at_end(self,data):\n",
    "        if self.head is None:\n",
    "            self.head = Node(data)\n",
    "            self.node = self.head\n",
    "        else:\n",
    "            self.node.next = Node(data)\n",
    "            self.node = self.node.next\n",
    "            self.indexing()\n",
    "            \n",
    "    def insert_at_begining(self,data):\n",
    "        prev = Node(data)\n",
    "        prev.next = self.head\n",
    "        self.head = prev\n",
    "        self.indexing()\n",
    "        \n",
    "    def insert_by_index(self,data,index):\n",
    "        temp1 = self.node_by_index(index-1)\n",
    "        temp2 = self.node_by_index(index)\n",
    "        node = Node(data)\n",
    "        temp1.next = node\n",
    "        node.next = temp2\n",
    "        self.indexing()\n",
    "        \n",
    "        \n",
    "    def display(self):\n",
    "        if self.head is None:\n",
    "            print('This Linked List is Empty. No elements to show')\n",
    "        else:\n",
    "            print(\"Linked List : \",end=\"\")\n",
    "            temp = self.head\n",
    "            while temp != self.node:\n",
    "                print(temp.data,end=\" --> \")\n",
    "                temp = temp.next\n",
    "            print(temp.data)\n",
    "            \n",
    "    def node_by_index(self,index):\n",
    "        if index >= self.length():\n",
    "            print(\"Requested Index is out of range\")\n",
    "        else:\n",
    "            temp = self.head\n",
    "            while temp.index < index:\n",
    "                temp = temp.next\n",
    "            return temp\n",
    "        \n",
    "    def show_by_index(self,index):\n",
    "        print(\"value at index\",index,\"is :\",self.node_by_index(index).data)\n",
    "    \n",
    "    \n",
    "    def remove_at_begining(self):\n",
    "        if self.head is None:\n",
    "            print('This Linked List is Empty. No elements to remove')\n",
    "        else:\n",
    "            self.head = self.head.next\n",
    "        \n",
    "    def remove_at_end(self):\n",
    "        if self.head is None:\n",
    "            print('This Linked List is Empty. No elements to remove')\n",
    "        else:\n",
    "            temp = self.head\n",
    "            while temp.next.next is not None:\n",
    "                temp = temp.next\n",
    "            temp.next = None\n",
    "            self.node = temp\n",
    "        \n",
    "    def remove_by_value(self,data):\n",
    "        if self.head is None:\n",
    "            print('This Linked List is Empty. No elements to remove')\n",
    "        else:\n",
    "            len_ = self.length()\n",
    "            temp = self.head\n",
    "            while temp.next != None and temp.next != self.node:\n",
    "                if temp.next.data == data:\n",
    "                    temp.next = temp.next.next\n",
    "                temp = temp.next\n",
    "            if self.head.data == data:\n",
    "                self.remove_at_begining()\n",
    "            if self.node.data == data:\n",
    "                self.remove_at_end()\n",
    "            if len_ == self.length() :\n",
    "                print(\"The element\",data,\"already not exist.\")\n",
    "                \n",
    "                \n",
    "    def remove_by_index(self,index):\n",
    "        temp = self.node_by_index(index-1)\n",
    "        temp.next = temp.next.next\n",
    "        self.indexing()\n",
    "        \n",
    "        \n",
    "    def update_by_index(self,data,index):\n",
    "        self.remove_by_index(index)\n",
    "        self.insert_by_index(data,index)\n",
    "                \n",
    "    def insert_list(self,array):\n",
    "        for i in range(len(array)):\n",
    "            self.insert_at_end(array[i])\n",
    "     \n",
    "    def length(self):\n",
    "        if self.head is None:\n",
    "            print(0)\n",
    "        else:\n",
    "            temp = self.head\n",
    "            i = 0\n",
    "            while temp:\n",
    "                i = i + 1\n",
    "                temp = temp.next\n",
    "            return i\n",
    "       \n",
    "        \n",
    "llist = LinkedList()\n",
    "llist.insert_list([75,88,24,78,56,35,95])\n",
    "llist.insert_at_begining(57)\n",
    "llist.display()\n",
    "llist.insert_by_index(45,4)\n",
    "llist.display()"
   ]
  },
  {
   "cell_type": "markdown",
   "metadata": {},
   "source": [
    "### Stack uing Linked List"
   ]
  },
  {
   "cell_type": "code",
   "execution_count": 6,
   "metadata": {},
   "outputs": [
    {
     "name": "stdout",
     "output_type": "stream",
     "text": [
      "Stack is Empty\n",
      "Stack is Empty\n",
      ":Stack : 60--> 77--> None\n",
      ":Stack : 60--> 77--> 53--> None\n",
      ":Stack : 60--> 77--> 53--> 34--> None\n",
      ":Stack : 60--> 77--> 53--> None\n",
      ":Stack : 60--> 77--> None\n",
      ":Stack : 60--> 77--> 98--> None\n",
      ":Stack : 60--> 77--> 98--> 45--> None\n"
     ]
    }
   ],
   "source": [
    "class Node:\n",
    "    def __init__(self,data):\n",
    "        self.data = data\n",
    "        self.next = None\n",
    "        \n",
    "class StackLL:\n",
    "    def __init__(self):\n",
    "        self.head = None\n",
    "        \n",
    "    def instack(self,data):\n",
    "        if self.head == None:\n",
    "            self.head = self.node = Node(data)\n",
    "        else:\n",
    "            self.node.next = Node(data)\n",
    "            self.node = self.node.next\n",
    "            self.showstack()\n",
    "            \n",
    "    def popstack(self):\n",
    "        if self.head == None:\n",
    "            print(\"Stack is Empty\")\n",
    "        else:\n",
    "            temp = self.head\n",
    "            while temp.next.next != None:\n",
    "                temp = temp.next\n",
    "            temp.next = None\n",
    "            self.node = temp\n",
    "            self.showstack()\n",
    "            \n",
    "    def showstack(self):\n",
    "        if self.head == None:\n",
    "            print(\"Stack is Empty\")\n",
    "        else:\n",
    "            temp = self.head\n",
    "            print(\":Stack : \",end=\"\")\n",
    "            while temp != None:\n",
    "                print(temp.data,end=\"--> \")\n",
    "                temp = temp.next\n",
    "            print(None)\n",
    "        \n",
    "        \n",
    "stk = StackLL()\n",
    "stk.showstack()\n",
    "stk.popstack()\n",
    "stk.instack(60)\n",
    "stk.instack(77)\n",
    "stk.instack(53)\n",
    "stk.instack(34)\n",
    "stk.popstack()\n",
    "stk.popstack()\n",
    "stk.instack(98)\n",
    "stk.instack(45)          "
   ]
  },
  {
   "cell_type": "markdown",
   "metadata": {},
   "source": [
    "### Queue using Linked List"
   ]
  },
  {
   "cell_type": "code",
   "execution_count": 5,
   "metadata": {},
   "outputs": [
    {
     "name": "stdout",
     "output_type": "stream",
     "text": [
      "Queue is Empty\n",
      "Queue is Empty\n",
      "Queue : 5--> None\n",
      "Queue : 5--> 6--> None\n",
      "Queue : 6--> None\n",
      "Queue : 6--> 2--> None\n",
      "Queue : 6--> 2--> 9--> None\n",
      "Queue : 6--> 2--> 9--> 1--> None\n",
      "Queue : 2--> 9--> 1--> None\n",
      "Queue : 2--> 9--> 1--> 0--> None\n",
      "Queue : 9--> 1--> 0--> None\n",
      "Length :  3\n"
     ]
    }
   ],
   "source": [
    "class Node:\n",
    "    def __init__(self,data):\n",
    "        self.data = data\n",
    "        self.next = None\n",
    "        \n",
    "class QueueLL:\n",
    "    def __init__(self):\n",
    "        self.first = None\n",
    "    \n",
    "    def enqueue(self,data):\n",
    "        if self.first == None:\n",
    "            self.first = Node(data)\n",
    "            self.node = self.first\n",
    "        else:\n",
    "            self.node.next = Node(data)\n",
    "            self.node = self.node.next\n",
    "            \n",
    "    def dequeue(self):\n",
    "        if self.first == None:\n",
    "            print(\"Queue is Empty\")\n",
    "        else:\n",
    "            self.first = self.first.next\n",
    "        \n",
    "        \n",
    "    def length(self):\n",
    "        if self.first == None:\n",
    "            print(\"Queue is Empty. \")\n",
    "        else:\n",
    "            i = 0\n",
    "            temp = self.first\n",
    "            while temp != None:\n",
    "                i+=1\n",
    "                temp = temp.next\n",
    "            return i\n",
    "        \n",
    "    def display(self):\n",
    "        if self.first == None:\n",
    "            print(\"Queue is Empty\")\n",
    "        else:\n",
    "            temp = self.first\n",
    "            print(\"Queue : \",end=\"\")\n",
    "            while temp != None:\n",
    "                print(temp.data,end=\"--> \")\n",
    "                temp = temp.next\n",
    "            print(None)\n",
    "            \n",
    "que = QueueLL()\n",
    "que.display()\n",
    "que.dequeue()\n",
    "que.enqueue(5)\n",
    "que.display()\n",
    "que.enqueue(6)\n",
    "que.display()\n",
    "que.dequeue()\n",
    "que.display()\n",
    "que.enqueue(2)\n",
    "que.display()\n",
    "que.enqueue(9)\n",
    "que.display()\n",
    "que.enqueue(1)\n",
    "que.display()\n",
    "que.dequeue()\n",
    "que.display()\n",
    "que.enqueue(0)\n",
    "que.display()\n",
    "que.dequeue()\n",
    "que.display()\n",
    "print(\"Length : \",que.length())"
   ]
  }
 ],
 "metadata": {
  "kernelspec": {
   "display_name": "Python 3",
   "language": "python",
   "name": "python3"
  },
  "language_info": {
   "codemirror_mode": {
    "name": "ipython",
    "version": 3
   },
   "file_extension": ".py",
   "mimetype": "text/x-python",
   "name": "python",
   "nbconvert_exporter": "python",
   "pygments_lexer": "ipython3",
   "version": "3.8.5"
  }
 },
 "nbformat": 4,
 "nbformat_minor": 4
}
